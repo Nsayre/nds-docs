{
 "cells": [
  {
   "cell_type": "markdown",
   "id": "3e3fe906-2761-4cc1-9165-c329e53d733c",
   "metadata": {},
   "source": [
    "# Python Tour\n",
    "## Data Types\n",
    "TODO\n",
    "## Data Structures\n",
    "### Lists\n",
    "Tuples\n",
    "\n",
    "Dicts\n",
    "\n",
    "Sets\n",
    "    Collection of unique items that excels at testing membership\n",
    "    mutable\n",
    "    unordered\n",
    "## Functions\n",
    "## TODO\n",
    "\n"
   ]
  },
  {
   "cell_type": "code",
   "execution_count": 1,
   "id": "4fba22ea-e841-4148-b2cb-776680e03540",
   "metadata": {},
   "outputs": [
    {
     "name": "stdout",
     "output_type": "stream",
     "text": [
      "0\n"
     ]
    }
   ],
   "source": [
    "l = [0, 1, 2, 3, 4, 5]\n",
    "print(l[0])"
   ]
  },
  {
   "cell_type": "code",
   "execution_count": 4,
   "id": "0f3c1658-d480-49b5-993d-4addc937e919",
   "metadata": {},
   "outputs": [
    {
     "name": "stdout",
     "output_type": "stream",
     "text": [
      "3 5\n"
     ]
    }
   ],
   "source": [
    "l2d = [[1,2,3], \n",
    "       [4,5,6],\n",
    "       [7,8,9]]\n",
    "print(l2d[0][2], l2d[1][1])"
   ]
  },
  {
   "cell_type": "code",
   "execution_count": null,
   "id": "84fb0912-d118-471d-bad7-2bf401022bfc",
   "metadata": {},
   "outputs": [],
   "source": []
  }
 ],
 "metadata": {
  "kernelspec": {
   "display_name": "Python 3 (ipykernel)",
   "language": "python",
   "name": "python3"
  },
  "language_info": {
   "codemirror_mode": {
    "name": "ipython",
    "version": 3
   },
   "file_extension": ".py",
   "mimetype": "text/x-python",
   "name": "python",
   "nbconvert_exporter": "python",
   "pygments_lexer": "ipython3",
   "version": "3.12.3"
  }
 },
 "nbformat": 4,
 "nbformat_minor": 5
}
